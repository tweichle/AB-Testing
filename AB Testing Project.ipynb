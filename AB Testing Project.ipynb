{
 "cells": [
  {
   "cell_type": "code",
   "execution_count": 1,
   "metadata": {},
   "outputs": [],
   "source": [
    "import pandas as pd\n",
    "import numpy as np\n",
    "import math"
   ]
  },
  {
   "cell_type": "markdown",
   "metadata": {},
   "source": [
    "[A/B Testing to Determine an Effective Approach to Reduce Early Udacity Course Cancellation](https://github.com/shubhamlal11/Udacity-AB-Testing-Final-Project)\n",
    "=========================================================================================="
   ]
  },
  {
   "cell_type": "markdown",
   "metadata": {},
   "source": [
    "Note: Another resource from Kaggle:\n",
    "[AB Testing With Python - Walkthrough Udacity's Course Final Project](https://www.kaggle.com/tammyrotem/ab-tests-with-python/notebook#AB-Testing-With-Python---Walkthrough-Udacity's-Course-Final-Project)"
   ]
  },
  {
   "cell_type": "markdown",
   "metadata": {},
   "source": [
    "Note: Another resource from Towards Data Science:\n",
    "[A Summary of Udacity A/B Testing Course](https://towardsdatascience.com/a-summary-of-udacity-a-b-testing-course-9ecc32dedbb1)"
   ]
  },
  {
   "cell_type": "markdown",
   "metadata": {},
   "source": [
    "Experiment Description\n",
    "----------------------\n",
    "\n",
    "At the time of this experiment, Udacity courses currently have two\n",
    "options on the home page: \"start free trial\", and \"access course\n",
    "materials\". If the student clicks \"start free trial\", they will be asked\n",
    "to enter their credit card information, and then they will be enrolled\n",
    "in a free trial for the paid version of the course. After 14 days, they\n",
    "will automatically be charged unless they cancel first. If the student\n",
    "clicks \"access course materials\", they will be able to view the videos\n",
    "and take the quizzes for free, but they will not receive coaching\n",
    "support or a verified certificate, and they will not submit their final\n",
    "project for feedback.\n",
    "\n",
    "In the experiment, Udacity tested a change where if the student clicked\n",
    "\"start free trial\", they were asked how much time they had available to\n",
    "devote to the course. If the student indicated 5 or more hours per week,\n",
    "they would be taken through the checkout process as usual. If they\n",
    "indicated fewer than 5 hours per week, a message would appear indicating\n",
    "that Udacity courses usually require a greater time commitment for\n",
    "successful completion, and suggesting that the student might like to\n",
    "access the course materials for free. At this point, the student would\n",
    "have the option to continue enrolling in the free trial, or access the\n",
    "course materials for free instead. This screenshot shows the experiment:\n",
    "\n",
    "![Experiment Screenshot](exp_screenshot.png)\n",
    "\n",
    "The primary aim of Udacity is to improve the overall student experience\n",
    "and improve coaches' capacity to support students who are likely to\n",
    "complete the course.\n",
    "\n",
    "**Null Hypothesis :** The null hypothesis is that this approach might\n",
    "not make a significant change and might not be effective in reducing the\n",
    "early Udacity course cancellation.\n",
    "\n",
    "**Alternative Hypothesis :** The alternative hypothesis is that this\n",
    "might reduce the number of frustrated students who left the free trial\n",
    "because they didn't have enough time, without significantly reducing the\n",
    "number of students to continue past the free trial and eventually\n",
    "complete the course."
   ]
  },
  {
   "cell_type": "markdown",
   "metadata": {},
   "source": [
    "Experimental Design\n",
    "-------------------\n",
    "\n",
    "The unit of diversion is a cookie, although if the student enrolls in\n",
    "the free trial, they are tracked by user-id from that point forward. The\n",
    "same user-id cannot enroll in the free trial twice. For users that do\n",
    "not enroll, their user-id is not tracked in the experiment, even if they\n",
    "were signed in when they visited the course overview page.\n",
    "\n",
    "### Metric Choice\n",
    "\n",
    "_**Invariant Metrics :** number of cookies, number of clicks, click-through-probability._\n",
    "\n",
    "_**Evaluation Metrics :** gross conversion, retention, net conversion._\n",
    "\n",
    "#### Invariant Metrics\n",
    "\n",
    "Invariant metrics are thoses which remain invariant throughout the\n",
    "experiment. One could expect a similar distribution of such metrics both\n",
    "on control and experiment side. In the given experiment, the invariant\n",
    "metrics are as follows -\n",
    "\n",
    "**Number of cookies:** That is, number of unique cookies to view the\n",
    "course overview page. This is the unit of diversion and even\n",
    "distribution amongst the control and experiment groups is expected.\n",
    "\n",
    "**Number of clicks:** That is, number of unique cookies to click the\n",
    "\"Start free trial\" button (which happens before the free trial screener\n",
    "is trigger).Equal distribution amongst the experiment and control groups\n",
    "would be expected since at this point in the funnel the experience is\n",
    "the same for all users and therefore elements of the experiment would\n",
    "not be expected to impact clicking the \"start free trial\" button.\n",
    "\n",
    "**Click-through-probability:** That is, number of unique cookies to\n",
    "click the \"Start free trial\" button divided by number of unique cookies\n",
    "to view the course overview page. Till the time the user clicks the\n",
    "\"start free trial\" button the user experience is same for all the users.\n",
    "Hence, we expect equal distribution in both the groups.\n",
    "\n",
    "#### Evaluation Metrics\n",
    "\n",
    "Evaluation metrics are chosen since there is a possibility of different\n",
    "distribution between experiment and control groups as a function of\n",
    "experiment. Each evaluation metric is associated with a minimum\n",
    "difference (dmin) that must be observed for consideration in the\n",
    "decision to launch the experiment. The ultimate goal is to minimize\n",
    "student frustation and use the limited coaching resources most\n",
    "efficiently. With this in mind, the following conditions must be\n",
    "satisfied -\n",
    "\n",
    "-   Increased retension, i.e, the ratio of users who remained enrolled\n",
    "    past the 14-day boundary to the number of users to complete checkout\n",
    "    should increase.\n",
    "\n",
    "-   Decreased gross conversion coupled to increase in net conversion,\n",
    "    i.e, less students enrolling in free trial but more students staying\n",
    "    beyound the free trial.\n",
    "\n",
    "**Gross conversion:** That is, number of user-ids to complete checkout\n",
    "and enroll in the free trial divided by number of unique cookies to\n",
    "click the \"Start free trial\" button.\n",
    "\n",
    "**Retention:** That is, number of user-ids to remain enrolled past the\n",
    "14-day boundary (and thus make at least one payment) divided by number\n",
    "of user-ids to complete checkout.\n",
    "\n",
    "**Net conversion:** That is, number of user-ids to remain enrolled past\n",
    "the 14-day boundary (and thus make at least one payment) divided by the\n",
    "number of unique cookies to click the \"Start free trial\" button.\n",
    "\n",
    "#### Unused Metrics\n",
    "\n",
    "**Number of user-ids:** The number of users who enroll in the free\n",
    "trial. User-ids are tracked only after enrolling in the free trial and\n",
    "equal distribution between the control and experimental branches would\n",
    "not be expected. User-id count could be used to evaluate how many\n",
    "enrollments stayed beyond the 14 day free trial boundary, but since it\n",
    "isn't normalized, I have elected not to use it."
   ]
  },
  {
   "cell_type": "markdown",
   "metadata": {},
   "source": [
    "Measuring Standard Deviation\n",
    "----------------------------\n",
    "\n",
    "***Analytical Estimate of Standard Deviation of Evaluation Metrics***\n",
    "\n",
    "For each of the metrics, the standard deviation is calculated for a\n",
    "sample size of 5000 unique cookies visiting the course overview page.\n",
    "The standard deviation are calculated using the [Baseline\n",
    "Values](/data/basline_vals.csv)."
   ]
  },
  {
   "cell_type": "code",
   "execution_count": 2,
   "metadata": {},
   "outputs": [],
   "source": [
    "pageviews=5000"
   ]
  },
  {
   "cell_type": "code",
   "execution_count": 3,
   "metadata": {},
   "outputs": [
    {
     "data": {
      "text/html": [
       "<div>\n",
       "<style scoped>\n",
       "    .dataframe tbody tr th:only-of-type {\n",
       "        vertical-align: middle;\n",
       "    }\n",
       "\n",
       "    .dataframe tbody tr th {\n",
       "        vertical-align: top;\n",
       "    }\n",
       "\n",
       "    .dataframe thead th {\n",
       "        text-align: right;\n",
       "    }\n",
       "</style>\n",
       "<table border=\"1\" class=\"dataframe\">\n",
       "  <thead>\n",
       "    <tr style=\"text-align: right;\">\n",
       "      <th></th>\n",
       "      <th>metric</th>\n",
       "      <th>baseline_val</th>\n",
       "    </tr>\n",
       "  </thead>\n",
       "  <tbody>\n",
       "    <tr>\n",
       "      <th>0</th>\n",
       "      <td>unique cookies to view page per day:</td>\n",
       "      <td>40000.000000</td>\n",
       "    </tr>\n",
       "    <tr>\n",
       "      <th>1</th>\n",
       "      <td>unique cookies to click \"start free trial\" per...</td>\n",
       "      <td>3200.000000</td>\n",
       "    </tr>\n",
       "    <tr>\n",
       "      <th>2</th>\n",
       "      <td>enrollments per day:</td>\n",
       "      <td>660.000000</td>\n",
       "    </tr>\n",
       "    <tr>\n",
       "      <th>3</th>\n",
       "      <td>click-through-probability on \"start free trial\":</td>\n",
       "      <td>0.080000</td>\n",
       "    </tr>\n",
       "    <tr>\n",
       "      <th>4</th>\n",
       "      <td>probability of enrolling, given click:</td>\n",
       "      <td>0.206250</td>\n",
       "    </tr>\n",
       "    <tr>\n",
       "      <th>5</th>\n",
       "      <td>probability of payment, given enroll:</td>\n",
       "      <td>0.530000</td>\n",
       "    </tr>\n",
       "    <tr>\n",
       "      <th>6</th>\n",
       "      <td>probability of payment, given click</td>\n",
       "      <td>0.109313</td>\n",
       "    </tr>\n",
       "  </tbody>\n",
       "</table>\n",
       "</div>"
      ],
      "text/plain": [
       "                                              metric  baseline_val\n",
       "0               unique cookies to view page per day:  40000.000000\n",
       "1  unique cookies to click \"start free trial\" per...   3200.000000\n",
       "2                               enrollments per day:    660.000000\n",
       "3   click-through-probability on \"start free trial\":      0.080000\n",
       "4             probability of enrolling, given click:      0.206250\n",
       "5              probability of payment, given enroll:      0.530000\n",
       "6                probability of payment, given click      0.109313"
      ]
     },
     "execution_count": 3,
     "metadata": {},
     "output_type": "execute_result"
    }
   ],
   "source": [
    "df_basevals = pd.read_csv('data/baseline_vals.csv', index_col=False, header=None, names=['metric','baseline_val'])\n",
    "df_basevals.metric = df_basevals.metric.map(lambda x: x.lower())\n",
    "df_basevals"
   ]
  },
  {
   "cell_type": "markdown",
   "metadata": {},
   "source": [
    "$sd = \\sqrt{\\frac{\\widehat{p}(1 - \\widehat{p})}{N}}$"
   ]
  },
  {
   "cell_type": "code",
   "execution_count": 4,
   "metadata": {},
   "outputs": [
    {
     "name": "stdout",
     "output_type": "stream",
     "text": [
      "phat = 0.20625\n",
      "sd = 0.0202\n"
     ]
    }
   ],
   "source": [
    "# Gross Conversion Standard Deviation = (660/3200)(1-(660/3200))/N\n",
    "phat = 660/3200\n",
    "print('phat =', phat)\n",
    "print('sd =', round(np.sqrt((0.206250*(1-0.206250))/(5000*3200/40000)), 4))"
   ]
  },
  {
   "cell_type": "code",
   "execution_count": 5,
   "metadata": {},
   "outputs": [
    {
     "name": "stdout",
     "output_type": "stream",
     "text": [
      "sd = 0.0549\n"
     ]
    }
   ],
   "source": [
    "# Retention Standard Deviation\n",
    "print('sd =', round(np.sqrt((0.53*(1-0.53))/(5000*660/40000)), 4))"
   ]
  },
  {
   "cell_type": "code",
   "execution_count": 6,
   "metadata": {},
   "outputs": [
    {
     "name": "stdout",
     "output_type": "stream",
     "text": [
      "sd = 0.0156\n"
     ]
    }
   ],
   "source": [
    "# Net Conversion Standard Deviation\n",
    "print('sd =', round(np.sqrt((0.109313*(1-0.109313))/(5000*3200/40000)), 4))"
   ]
  },
  {
   "cell_type": "markdown",
   "metadata": {},
   "source": [
    "<table>\n",
    "<thead>\n",
    "<tr class=\"header\">\n",
    "<th align=\"center\">Evaluation Metric</th>\n",
    "<th align=\"center\">Standard Deviation</th>\n",
    "</tr>\n",
    "</thead>\n",
    "<tbody>\n",
    "<tr class=\"odd\">\n",
    "<td align=\"center\">Gross Conversion</td>\n",
    "<td align=\"center\">.0202</td>\n",
    "</tr>\n",
    "<tr class=\"even\">\n",
    "<td align=\"center\">Retention</td>\n",
    "<td align=\"center\">.0549</td>\n",
    "</tr>\n",
    "<tr class=\"odd\">\n",
    "<td align=\"center\">Net Conversion</td>\n",
    "<td align=\"center\">.0156</td>\n",
    "</tr>\n",
    "</tbody>\n",
    "</table>"
   ]
  },
  {
   "cell_type": "markdown",
   "metadata": {},
   "source": [
    "Sizing\n",
    "------\n",
    "\n",
    "The following calculation is based on [baseline conversion data](/data/baseline_vals.csv).\n",
    "\n",
    "### Number of Samples vs Power\n",
    "\n",
    "Page views required for each evaluation metric is calculated separately using the [online calculator](http://www.evanmiller.org/ab-testing/sample-size.html). The alpha value of 0.05 and beta value of 0.20 is used in all the cases. The Bonferonni correction will not be used."
   ]
  },
  {
   "cell_type": "markdown",
   "metadata": {},
   "source": [
    "$n = \\frac{(Z_{1 - \\frac{\\alpha}{2}}sd_{1} + Z_{1 - \\beta}sd_{2})}{d^{2}}, where$\n",
    "\n",
    "$sd_{1} = \\sqrt{p(1 - p)+p(1 - p)}$\n",
    "\n",
    "$sd_{2} = \\sqrt{p(1 - p)+(p+d)(1 - (1 - (p+d))}$"
   ]
  },
  {
   "cell_type": "code",
   "execution_count": 7,
   "metadata": {},
   "outputs": [],
   "source": [
    "from scipy.stats import norm\n",
    "\n",
    "# Inputs: Required alpha value (alpha should already fit the required test)\n",
    "# Returns: z-score for given alpha\n",
    "def get_z_score(alpha):\n",
    "    return norm.ppf(alpha)\n",
    "\n",
    "# Inputs: p: baseline conversion rate (estimated p)\n",
    "#         d: minimum detectable effect (d_min)\n",
    "# Returns: sd for the baseline and sd for the expected change\n",
    "def get_sds(p, d):\n",
    "    sd1 = np.sqrt(2*p*(1 - p))\n",
    "    sd2 = np.sqrt(p*(1-p) + (p+d)*(1-(p+d)))\n",
    "    sds = [sd1, sd2]\n",
    "    return sds\n",
    "\n",
    "# Inputs: sd1: sd for the baseline\n",
    "#         sd2: sd for the expected change\n",
    "#         alpha: significance level \n",
    "#         beta: power = 1-beta\n",
    "#         d: d_min\n",
    "#         p: baseline conversion rate (estimated p)\n",
    "# Returns: minimum sample size required per group according to metric denominator\n",
    "def get_sampSize(sds, alpha, beta, d):\n",
    "    n = pow((get_z_score(1-alpha/2)*sds[0] + get_z_score(1-beta)*sds[1]), 2) / pow(d, 2)\n",
    "    return n"
   ]
  },
  {
   "cell_type": "markdown",
   "metadata": {},
   "source": [
    "***Pageviews for Each Evaluation Metric to Achieve Target Statistical Power***\n",
    "\n",
    "#### Gross Conversion\n",
    "\n",
    "* Baseline Conversion: 20.625%\n",
    "* Minimum Detectable Effect: 1%\n",
    "* $\\alpha$ = P(reject null | null true) = 0.05\n",
    "* $\\beta$ = P(fail to reject | null false) = 0.20\n",
    "* Sensitivity = (1 - $\\beta$) = 0.80 power\n",
    "* Sample Size = 25,835 enrollments/group\n",
    "* Number of Groups = 2 (experiment and control)\n",
    "* Total Sample Size = 51,670 enrollments\n",
    "* Clicks/Pageview: 3,200/40,000 = 0.08 clicks/pageview\n",
    "* Pageviews Required = (51,670/0.08) = 645,875"
   ]
  },
  {
   "cell_type": "code",
   "execution_count": 8,
   "metadata": {},
   "outputs": [
    {
     "data": {
      "text/plain": [
       "25835.0"
      ]
     },
     "execution_count": 8,
     "metadata": {},
     "output_type": "execute_result"
    }
   ],
   "source": [
    "GC_SampSize = round(get_sampSize(get_sds(0.20625, 0.01), 0.05, 0.2, 0.01))\n",
    "GC_SampSize"
   ]
  },
  {
   "cell_type": "markdown",
   "metadata": {},
   "source": [
    "#### Retention\n",
    "\n",
    "* Baseline Conversion: 53%\n",
    "* Minimum Detectable Effect: 1%\n",
    "* $\\alpha$ = P(reject null | null true) = 0.05\n",
    "* $\\beta$ = P(fail to reject | null false) = 0.20\n",
    "* Sensitivity = (1 - $\\beta$) = 0.80 power\n",
    "* Sample Size = 39,115 enrollments/group\n",
    "* Number of Groups = 2 (experiment and control)\n",
    "* Total Sample Size = 78,230 enrollments\n",
    "* Enrollments/Pageview: 660/40,000 = 0.0165 enrollments/pageview\n",
    "* Pageviews = (78,230/0.0165) = 4,741,212"
   ]
  },
  {
   "cell_type": "code",
   "execution_count": 9,
   "metadata": {},
   "outputs": [
    {
     "data": {
      "text/plain": [
       "39087.0"
      ]
     },
     "execution_count": 9,
     "metadata": {},
     "output_type": "execute_result"
    }
   ],
   "source": [
    "R_SampSize = round(get_sampSize(get_sds(0.53, 0.01), 0.05, 0.2, 0.01))\n",
    "R_SampSize"
   ]
  },
  {
   "cell_type": "markdown",
   "metadata": {},
   "source": [
    "#### Net Conversion\n",
    "\n",
    "* Baseline Conversion: 10.9313%\n",
    "* Minimum Detectable Effect: 0.75%\n",
    "* $\\alpha$ = P(reject null | null true) = 0.05\n",
    "* $\\beta$ = P(fail to reject | null false) = 0.20\n",
    "* Sensitivity = (1 - $\\beta$) = 0.80 power\n",
    "* Sample Size = 27,413 enrollments/group\n",
    "* Number of Groups = 2 (experiment and control)\n",
    "* Total Sample Size = 54,826 enrollments\n",
    "* Clicks/Pageview: 3,200/40,000 = 0.08 clicks/pageview\n",
    "* Pageviews = (54,826/0.08) = 685,325"
   ]
  },
  {
   "cell_type": "code",
   "execution_count": 10,
   "metadata": {},
   "outputs": [
    {
     "data": {
      "text/plain": [
       "27413.0"
      ]
     },
     "execution_count": 10,
     "metadata": {},
     "output_type": "execute_result"
    }
   ],
   "source": [
    "NC_SampSize = round(get_sampSize(get_sds(0.109313, 0.0075), 0.05, 0.2, 0.0075))\n",
    "NC_SampSize"
   ]
  },
  {
   "cell_type": "markdown",
   "metadata": {},
   "source": [
    "*Pageviews required is maximum of pageviews required for Gross Conversion, Retention, Net Conversion. Therefore, the required pageviews is 4,741,212.*"
   ]
  },
  {
   "cell_type": "markdown",
   "metadata": {},
   "source": [
    "### Duration and Exposure\n",
    "If we divert 100% of traffic, given 40,000 page views per day, the\n",
    "experiment would take ~ 119 days.  That is a long time."
   ]
  },
  {
   "cell_type": "code",
   "execution_count": 11,
   "metadata": {},
   "outputs": [
    {
     "data": {
      "text/plain": [
       "119"
      ]
     },
     "execution_count": 11,
     "metadata": {},
     "output_type": "execute_result"
    }
   ],
   "source": [
    "# 100% diversion\n",
    "math.ceil(4741212/(40000*1.0))"
   ]
  },
  {
   "cell_type": "markdown",
   "metadata": {},
   "source": [
    "If we eliminate Retention, we are left with Gross Conversion and Net Conversion. This reduces the number of required pageviews to 685,325, and an ~ 18 day experiment with 100% diversion and ~ 35 days given 50% diversion. There may be other experiments to run, so let's say 50% diversion for 35 days."
   ]
  },
  {
   "cell_type": "code",
   "execution_count": 12,
   "metadata": {},
   "outputs": [
    {
     "data": {
      "text/plain": [
       "18"
      ]
     },
     "execution_count": 12,
     "metadata": {},
     "output_type": "execute_result"
    }
   ],
   "source": [
    "# 100% diversion\n",
    "math.ceil(685325/(40000*1.0))"
   ]
  },
  {
   "cell_type": "code",
   "execution_count": 13,
   "metadata": {},
   "outputs": [
    {
     "data": {
      "text/plain": [
       "35"
      ]
     },
     "execution_count": 13,
     "metadata": {},
     "output_type": "execute_result"
    }
   ],
   "source": [
    "# 50% diversion\n",
    "math.ceil(685325/(40000*0.5))"
   ]
  },
  {
   "cell_type": "markdown",
   "metadata": {},
   "source": [
    "A 119 day experiment with 100% diversion of traffic presents both a\n",
    "business risk (potential for: frustrated students, lower conversion and\n",
    "retention, and inefficient use of coaching resources) and an opportunity\n",
    "risk (performing other experiments). However, in general, this is not a\n",
    "risky experiment as the change would not be expected to cause a\n",
    "precipitous drop in enrollment. In terms of timing, an 18 day experiment\n",
    "is more reasonable, but % diversion may be scaled down depending on\n",
    "other experiments of interest to be performed concurrently."
   ]
  },
  {
   "cell_type": "markdown",
   "metadata": {},
   "source": [
    "Experiment Analysis\n",
    "-------------------\n",
    "\n",
    "The experiment data can be found in the following links :\n",
    "* [Control Group Data](/data/Final%20Project%20Results%20-%20Control) \n",
    "* [Experiment Group Data](/data/Final%20Project%20Results%20-%20Experiment)"
   ]
  },
  {
   "cell_type": "code",
   "execution_count": 14,
   "metadata": {},
   "outputs": [],
   "source": [
    "df_control = pd.read_csv('data/Final Project Results - Control.csv')\n",
    "df_experiment = pd.read_csv('data/Final Project Results - Experiment.csv')"
   ]
  },
  {
   "cell_type": "code",
   "execution_count": 15,
   "metadata": {},
   "outputs": [
    {
     "data": {
      "text/html": [
       "<div>\n",
       "<style scoped>\n",
       "    .dataframe tbody tr th:only-of-type {\n",
       "        vertical-align: middle;\n",
       "    }\n",
       "\n",
       "    .dataframe tbody tr th {\n",
       "        vertical-align: top;\n",
       "    }\n",
       "\n",
       "    .dataframe thead th {\n",
       "        text-align: right;\n",
       "    }\n",
       "</style>\n",
       "<table border=\"1\" class=\"dataframe\">\n",
       "  <thead>\n",
       "    <tr style=\"text-align: right;\">\n",
       "      <th></th>\n",
       "      <th>Control</th>\n",
       "      <th>Experiment</th>\n",
       "    </tr>\n",
       "  </thead>\n",
       "  <tbody>\n",
       "    <tr>\n",
       "      <th>cookies</th>\n",
       "      <td>345543.0</td>\n",
       "      <td>344660.0</td>\n",
       "    </tr>\n",
       "    <tr>\n",
       "      <th>clicks</th>\n",
       "      <td>28378.0</td>\n",
       "      <td>28325.0</td>\n",
       "    </tr>\n",
       "    <tr>\n",
       "      <th>enrollments</th>\n",
       "      <td>3785.0</td>\n",
       "      <td>3423.0</td>\n",
       "    </tr>\n",
       "    <tr>\n",
       "      <th>payments</th>\n",
       "      <td>2033.0</td>\n",
       "      <td>1945.0</td>\n",
       "    </tr>\n",
       "  </tbody>\n",
       "</table>\n",
       "</div>"
      ],
      "text/plain": [
       "              Control  Experiment\n",
       "cookies      345543.0    344660.0\n",
       "clicks        28378.0     28325.0\n",
       "enrollments    3785.0      3423.0\n",
       "payments       2033.0      1945.0"
      ]
     },
     "execution_count": 15,
     "metadata": {},
     "output_type": "execute_result"
    }
   ],
   "source": [
    "results = {'Control': pd.Series([df_control.Pageviews.sum(), df_control.Clicks.sum(),\n",
    "                                 df_control.Enrollments.sum(), df_control.Payments.sum()],\n",
    "                                index = ['cookies','clicks', 'enrollments','payments']),\n",
    "           'Experiment': pd.Series([df_experiment.Pageviews.sum(), df_experiment.Clicks.sum(),\n",
    "                                    df_experiment.Enrollments.sum(), df_experiment.Payments.sum()],\n",
    "                                   index = ['cookies', 'clicks', 'enrollments', 'payments'])}\n",
    "df_results = pd.DataFrame(results)\n",
    "df_results"
   ]
  },
  {
   "cell_type": "markdown",
   "metadata": {},
   "source": [
    "### Sanity Checks\n",
    "\n",
    "This check is primarily for the invariant metrics. For invariant metrics\n",
    "we expect equal diversion into the experiment and control group. We will\n",
    "test this at the 95% confidence level."
   ]
  },
  {
   "cell_type": "markdown",
   "metadata": {},
   "source": [
    "#### Count Metrics\n",
    "\n",
    "For a count, calculate a confidence interval around the fraction of events you expect to be assigned to the control group, and the observed value should be the actual fraction that was assigned to the control group."
   ]
  },
  {
   "cell_type": "code",
   "execution_count": 16,
   "metadata": {},
   "outputs": [],
   "source": [
    "df_results['Total'] = df_results.Control + df_results.Experiment\n",
    "df_results['Prob'] = 0.5\n",
    "df_results['StdErr'] = np.sqrt((df_results.Prob * (1 - df_results.Prob))/df_results.Total)\n",
    "df_results[\"MargErr\"] = 1.96 * df_results.StdErr\n",
    "df_results[\"CI_Lower\"] = df_results.Prob - df_results.MargErr\n",
    "df_results[\"CI_Upper\"] = df_results.Prob + df_results.MargErr\n",
    "df_results[\"Obs_Val\"] = df_results.Control/df_results.Total\n",
    "df_results[\"Pass_Sanity\"] = df_results.apply(lambda x: (x.Obs_Val > x.CI_Lower) and (x.Obs_Val < x.CI_Upper), axis=1)\n",
    "df_results['Rel_Diff'] = abs((df_results.Experiment - df_results.Control)/df_results.Total)"
   ]
  },
  {
   "cell_type": "code",
   "execution_count": 17,
   "metadata": {},
   "outputs": [
    {
     "data": {
      "text/html": [
       "<div>\n",
       "<style scoped>\n",
       "    .dataframe tbody tr th:only-of-type {\n",
       "        vertical-align: middle;\n",
       "    }\n",
       "\n",
       "    .dataframe tbody tr th {\n",
       "        vertical-align: top;\n",
       "    }\n",
       "\n",
       "    .dataframe thead th {\n",
       "        text-align: right;\n",
       "    }\n",
       "</style>\n",
       "<table border=\"1\" class=\"dataframe\">\n",
       "  <thead>\n",
       "    <tr style=\"text-align: right;\">\n",
       "      <th></th>\n",
       "      <th>Control</th>\n",
       "      <th>Experiment</th>\n",
       "      <th>Total</th>\n",
       "      <th>Prob</th>\n",
       "      <th>StdErr</th>\n",
       "      <th>MargErr</th>\n",
       "      <th>CI_Lower</th>\n",
       "      <th>CI_Upper</th>\n",
       "      <th>Obs_Val</th>\n",
       "      <th>Pass_Sanity</th>\n",
       "      <th>Rel_Diff</th>\n",
       "    </tr>\n",
       "  </thead>\n",
       "  <tbody>\n",
       "    <tr>\n",
       "      <th>cookies</th>\n",
       "      <td>345543.0</td>\n",
       "      <td>344660.0</td>\n",
       "      <td>690203.0</td>\n",
       "      <td>0.5</td>\n",
       "      <td>0.000602</td>\n",
       "      <td>0.001180</td>\n",
       "      <td>0.498820</td>\n",
       "      <td>0.501180</td>\n",
       "      <td>0.500640</td>\n",
       "      <td>True</td>\n",
       "      <td>0.001279</td>\n",
       "    </tr>\n",
       "    <tr>\n",
       "      <th>clicks</th>\n",
       "      <td>28378.0</td>\n",
       "      <td>28325.0</td>\n",
       "      <td>56703.0</td>\n",
       "      <td>0.5</td>\n",
       "      <td>0.002100</td>\n",
       "      <td>0.004116</td>\n",
       "      <td>0.495884</td>\n",
       "      <td>0.504116</td>\n",
       "      <td>0.500467</td>\n",
       "      <td>True</td>\n",
       "      <td>0.000935</td>\n",
       "    </tr>\n",
       "    <tr>\n",
       "      <th>enrollments</th>\n",
       "      <td>3785.0</td>\n",
       "      <td>3423.0</td>\n",
       "      <td>7208.0</td>\n",
       "      <td>0.5</td>\n",
       "      <td>0.005889</td>\n",
       "      <td>0.011543</td>\n",
       "      <td>0.488457</td>\n",
       "      <td>0.511543</td>\n",
       "      <td>0.525111</td>\n",
       "      <td>False</td>\n",
       "      <td>0.050222</td>\n",
       "    </tr>\n",
       "    <tr>\n",
       "      <th>payments</th>\n",
       "      <td>2033.0</td>\n",
       "      <td>1945.0</td>\n",
       "      <td>3978.0</td>\n",
       "      <td>0.5</td>\n",
       "      <td>0.007928</td>\n",
       "      <td>0.015538</td>\n",
       "      <td>0.484462</td>\n",
       "      <td>0.515538</td>\n",
       "      <td>0.511061</td>\n",
       "      <td>True</td>\n",
       "      <td>0.022122</td>\n",
       "    </tr>\n",
       "  </tbody>\n",
       "</table>\n",
       "</div>"
      ],
      "text/plain": [
       "              Control  Experiment     Total  Prob    StdErr   MargErr  \\\n",
       "cookies      345543.0    344660.0  690203.0   0.5  0.000602  0.001180   \n",
       "clicks        28378.0     28325.0   56703.0   0.5  0.002100  0.004116   \n",
       "enrollments    3785.0      3423.0    7208.0   0.5  0.005889  0.011543   \n",
       "payments       2033.0      1945.0    3978.0   0.5  0.007928  0.015538   \n",
       "\n",
       "             CI_Lower  CI_Upper   Obs_Val  Pass_Sanity  Rel_Diff  \n",
       "cookies      0.498820  0.501180  0.500640         True  0.001279  \n",
       "clicks       0.495884  0.504116  0.500467         True  0.000935  \n",
       "enrollments  0.488457  0.511543  0.525111        False  0.050222  \n",
       "payments     0.484462  0.515538  0.511061         True  0.022122  "
      ]
     },
     "execution_count": 17,
     "metadata": {},
     "output_type": "execute_result"
    }
   ],
   "source": [
    "df_results"
   ]
  },
  {
   "cell_type": "markdown",
   "metadata": {},
   "source": [
    "#### Other Metrics"
   ]
  },
  {
   "cell_type": "code",
   "execution_count": 18,
   "metadata": {},
   "outputs": [
    {
     "name": "stdout",
     "output_type": "stream",
     "text": [
      "Control cookies: 345543.0\n",
      "Control clicks: 28378.0\n",
      "Experiment cookies: 344660.0\n",
      "Experiment clicks: 28325.0\n"
     ]
    }
   ],
   "source": [
    "# Control Values\n",
    "cookies_cont = df_results.loc['cookies', 'Control']\n",
    "clicks_cont = df_results.loc['clicks', 'Control']\n",
    "\n",
    "print('Control cookies:', cookies_cont)\n",
    "print('Control clicks:', clicks_cont)\n",
    "\n",
    "# Experiment Values\n",
    "cookies_exp = df_results.loc['cookies', 'Experiment']\n",
    "clicks_exp = df_results.loc['clicks', 'Experiment']\n",
    "\n",
    "print('Experiment cookies:', cookies_exp)\n",
    "print('Experiment clicks:', clicks_exp)"
   ]
  },
  {
   "cell_type": "markdown",
   "metadata": {},
   "source": [
    "$H_{0}: p_{cont} = p_{exp}\\ (p_{exp} - p_{cont} = 0)$ <br>\n",
    "$H_{a}: p_{cont} \\neq p_{exp}$"
   ]
  },
  {
   "cell_type": "markdown",
   "metadata": {},
   "source": [
    "$\\hat{p_{pool}} = \\frac{x_{cont}+x_{exp}}{N_{cont}+N_{exp}}$ <br>\n",
    "$\\hat{se_{pool}} = \\sqrt{\\hat{p_{pool}}(1 - \\hat{p_{pool}})(\\frac{1}{N_{cont}}+\\frac{1}{N_{exp}})}$"
   ]
  },
  {
   "cell_type": "markdown",
   "metadata": {},
   "source": [
    "$\\widehat{d} = \\hat{p_{exp}} - \\hat{p_{cont}}$ <br>\n",
    "$H_{0}: d = 0 \\ where \\ \\widehat{d}\\sim N(0, \\hat{se_{pool}})$"
   ]
  },
  {
   "cell_type": "markdown",
   "metadata": {},
   "source": [
    "$If \\ \\widehat{d} > 1.96*\\hat{se_{pool}} \\ or \\ \\widehat{d} < -1.96*\\hat{se_{pool}}, \\ reject \\ H_{0} \\ (i.e., outside \\ of \\ CI)$ <br>\n",
    "$95\\% \\ CI: \\ (\\widehat{d} - ME, \\ \\widehat{d} + ME)$"
   ]
  },
  {
   "cell_type": "code",
   "execution_count": 19,
   "metadata": {},
   "outputs": [
    {
     "name": "stdout",
     "output_type": "stream",
     "text": [
      "Control Proportion: 0.0821\n",
      "Experiment Proportion: 0.0822\n",
      "Observed Difference: 0.0001\n",
      "\n",
      "Pooled Estimated Proportion: 0.0822\n",
      "Pooled Standard Error: 0.0007\n",
      "Margin of Error: 0.0013\n",
      "CI Lower Bound: -0.0012\n",
      "CI Upper Bound: 0.0014\n"
     ]
    }
   ],
   "source": [
    "# Click Through Probability (clicks/cookies)\n",
    "\n",
    "# Control Proportion \n",
    "cont_p_hat = clicks_cont/cookies_cont\n",
    "print('Control Proportion:', round(cont_p_hat, 4))\n",
    "\n",
    "# Experiment Proportion\n",
    "exp_p_hat = clicks_exp/cookies_exp\n",
    "print('Experiment Proportion:', round(exp_p_hat, 4))\n",
    "\n",
    "# Observed Difference d_hat\n",
    "d_hat = exp_p_hat - cont_p_hat\n",
    "print('Observed Difference:', round(d_hat, 4))\n",
    "print()\n",
    "\n",
    "# Pooled Estimated Proportion\n",
    "p_hat_pooled = (clicks_cont + clicks_exp)/(cookies_cont + cookies_exp)\n",
    "print('Pooled Estimated Proportion:', round(p_hat_pooled, 4))\n",
    "\n",
    "# Pooled Standard Error\n",
    "SE_pooled = np.sqrt((p_hat_pooled * (1 - p_hat_pooled))*((1/cookies_cont) + (1/cookies_exp)))\n",
    "print('Pooled Standard Error:', round(SE_pooled, 4))\n",
    "\n",
    "# Margin of Error for 95% Confidence Interval (z = 1.96)\n",
    "ME = 1.96 * SE_pooled\n",
    "print('Margin of Error:', round(ME, 4))\n",
    "\n",
    "# 95% Confidence Interval\n",
    "lower_CI = d_hat - ME\n",
    "print('CI Lower Bound:', round(lower_CI, 4))\n",
    "upper_CI = d_hat + ME\n",
    "print('CI Upper Bound:', round(upper_CI, 4))"
   ]
  },
  {
   "cell_type": "code",
   "execution_count": 20,
   "metadata": {},
   "outputs": [
    {
     "name": "stdout",
     "output_type": "stream",
     "text": [
      "95% CI: ( -0.0012 , 0.0014 ); Is 0.0001 within this range?\n"
     ]
    }
   ],
   "source": [
    "print('95% CI: (', round(lower_CI, 4), ',', round(upper_CI, 4), '); Is', round(d_hat, 4), 'within this range?')"
   ]
  },
  {
   "cell_type": "markdown",
   "metadata": {},
   "source": [
    "<table style=\"width:100%;\">\n",
    "<colgroup>\n",
    "<col width=\"10%\" />\n",
    "<col width=\"20%\" />\n",
    "<col width=\"20%\" />\n",
    "<col width=\"20%\" />\n",
    "<col width=\"20%\" />\n",
    "<col width=\"10%\" />\n",
    "</colgroup>\n",
    "<thead>\n",
    "<tr class=\"header\">\n",
    "<th align=\"center\">Metric</th>\n",
    "<th align=\"center\">Expected Value</th>\n",
    "<th align=\"center\">Observed Value</th>\n",
    "<th align=\"center\">CI Lower Bound</th>\n",
    "<th align=\"center\">CI Upper Bound</th>\n",
    "<th align=\"center\">Result</th>\n",
    "</tr>\n",
    "</thead>\n",
    "<tbody>\n",
    "<tr class=\"odd\">\n",
    "<td align=\"center\">Number of Cookies</td>\n",
    "<td align=\"center\">0.5000</td>\n",
    "<td align=\"center\">0.5006</td>\n",
    "<td align=\"center\">0.4988</td>\n",
    "<td align=\"center\">0.5012</td>\n",
    "<td align=\"center\">Pass</td>\n",
    "</tr>\n",
    "<tr class=\"even\">\n",
    "<td align=\"center\">Number of clicks on &quot;start free trial&quot;</td>\n",
    "<td align=\"center\">0.5000</td>\n",
    "<td align=\"center\">0.5005</td>\n",
    "<td align=\"center\">0.4959</td>\n",
    "<td align=\"center\">0.5041</td>\n",
    "<td align=\"center\">Pass</td>\n",
    "</tr>\n",
    "<tr class=\"odd\">\n",
    "<td align=\"center\">Click-through-probability</td>\n",
    "<td align=\"center\">0.0821</td>\n",
    "<td align=\"center\">0.0822</td>\n",
    "<td align=\"center\">-0.0012</td>\n",
    "<td align=\"center\">0.0014</td>\n",
    "<td align=\"center\">Pass</td>\n",
    "</tr>\n",
    "</tbody>\n",
    "</table>"
   ]
  },
  {
   "cell_type": "markdown",
   "metadata": {},
   "source": [
    "### Result Analysis\n",
    "\n",
    "95% Confidence interval for the difference between the experiment and\n",
    "control group for evaluation metrics."
   ]
  },
  {
   "cell_type": "code",
   "execution_count": 21,
   "metadata": {},
   "outputs": [],
   "source": [
    "df_control_notnull = df_control[pd.isnull(df_control.Enrollments) != True]\n",
    "df_experiment_notnull = df_experiment[pd.isnull(df_control.Enrollments) != True]"
   ]
  },
  {
   "cell_type": "code",
   "execution_count": 22,
   "metadata": {
    "scrolled": true
   },
   "outputs": [
    {
     "data": {
      "text/html": [
       "<div>\n",
       "<style scoped>\n",
       "    .dataframe tbody tr th:only-of-type {\n",
       "        vertical-align: middle;\n",
       "    }\n",
       "\n",
       "    .dataframe tbody tr th {\n",
       "        vertical-align: top;\n",
       "    }\n",
       "\n",
       "    .dataframe thead th {\n",
       "        text-align: right;\n",
       "    }\n",
       "</style>\n",
       "<table border=\"1\" class=\"dataframe\">\n",
       "  <thead>\n",
       "    <tr style=\"text-align: right;\">\n",
       "      <th></th>\n",
       "      <th>Control</th>\n",
       "      <th>Experiment</th>\n",
       "      <th>Total</th>\n",
       "    </tr>\n",
       "  </thead>\n",
       "  <tbody>\n",
       "    <tr>\n",
       "      <th>cookies</th>\n",
       "      <td>212163.0</td>\n",
       "      <td>211362.0</td>\n",
       "      <td>423525.0</td>\n",
       "    </tr>\n",
       "    <tr>\n",
       "      <th>clicks</th>\n",
       "      <td>17293.0</td>\n",
       "      <td>17260.0</td>\n",
       "      <td>34553.0</td>\n",
       "    </tr>\n",
       "    <tr>\n",
       "      <th>enrollments</th>\n",
       "      <td>3785.0</td>\n",
       "      <td>3423.0</td>\n",
       "      <td>7208.0</td>\n",
       "    </tr>\n",
       "    <tr>\n",
       "      <th>payments</th>\n",
       "      <td>2033.0</td>\n",
       "      <td>1945.0</td>\n",
       "      <td>3978.0</td>\n",
       "    </tr>\n",
       "  </tbody>\n",
       "</table>\n",
       "</div>"
      ],
      "text/plain": [
       "              Control  Experiment     Total\n",
       "cookies      212163.0    211362.0  423525.0\n",
       "clicks        17293.0     17260.0   34553.0\n",
       "enrollments    3785.0      3423.0    7208.0\n",
       "payments       2033.0      1945.0    3978.0"
      ]
     },
     "execution_count": 22,
     "metadata": {},
     "output_type": "execute_result"
    }
   ],
   "source": [
    "results_notnull = {'Control': pd.Series([df_control_notnull.Pageviews.sum(), df_control_notnull.Clicks.sum(),\n",
    "                                         df_control_notnull.Enrollments.sum(), df_control_notnull.Payments.sum()],\n",
    "                                        index = ['cookies', 'clicks', 'enrollments', 'payments']),\n",
    "                   'Experiment': pd.Series([df_experiment_notnull.Pageviews.sum(), df_experiment_notnull.Clicks.sum(),\n",
    "                                            df_experiment_notnull.Enrollments.sum(), df_experiment_notnull.Payments.sum()],\n",
    "                                           index = ['cookies', 'clicks', 'enrollments', 'payments'])}\n",
    "df_results_notnull = pd.DataFrame(results_notnull)\n",
    "df_results_notnull['Total'] = df_results_notnull.Control + df_results_notnull.Experiment\n",
    "df_results_notnull"
   ]
  },
  {
   "cell_type": "code",
   "execution_count": 23,
   "metadata": {},
   "outputs": [
    {
     "name": "stdout",
     "output_type": "stream",
     "text": [
      "Control enrollments: 3785.0\n",
      "Control clicks: 17293.0\n",
      "Control payments: 2033.0\n",
      "Experiment enrollments: 3423.0\n",
      "Experiment clicks: 17260.0\n",
      "Experiment payments: 1945.0\n"
     ]
    }
   ],
   "source": [
    "# Control Values\n",
    "enrollments_cont = df_results_notnull.loc['enrollments'].Control\n",
    "clicks_cont = df_results_notnull.loc['clicks'].Control\n",
    "payments_cont = df_results_notnull.loc['payments'].Control\n",
    "\n",
    "print('Control enrollments:', enrollments_cont)\n",
    "print('Control clicks:', clicks_cont)\n",
    "print('Control payments:', payments_cont)\n",
    "\n",
    "# Experiment Values\n",
    "enrollments_exp = df_results_notnull.loc['enrollments'].Experiment\n",
    "clicks_exp = df_results_notnull.loc['clicks'].Experiment\n",
    "payments_exp = df_results_notnull.loc['payments'].Experiment\n",
    "\n",
    "print('Experiment enrollments:', enrollments_exp)\n",
    "print('Experiment clicks:', clicks_exp)\n",
    "print('Experiment payments:', payments_exp)"
   ]
  },
  {
   "cell_type": "markdown",
   "metadata": {},
   "source": [
    "#### Metrics"
   ]
  },
  {
   "cell_type": "markdown",
   "metadata": {},
   "source": [
    "$H_{0}: p_{cont} = p_{exp}\\ (p_{exp} - p_{cont} = 0)$ <br>\n",
    "$H_{a}: p_{cont} \\neq p_{exp}$"
   ]
  },
  {
   "cell_type": "markdown",
   "metadata": {},
   "source": [
    "$\\hat{p_{pool}} = \\frac{x_{cont}+x_{exp}}{N_{cont}+N_{exp}}$ <br>\n",
    "$\\hat{se_{pool}} = \\sqrt{\\hat{p_{pool}}(1 - \\hat{p_{pool}})(\\frac{1}{N_{cont}}+\\frac{1}{N_{exp}})}$"
   ]
  },
  {
   "cell_type": "markdown",
   "metadata": {},
   "source": [
    "$\\widehat{d} = \\hat{p_{exp}} - \\hat{p_{cont}}$ <br>\n",
    "$H_{0}: d = 0 \\ where \\ \\widehat{d}\\sim N(0, \\hat{se_{pool}})$"
   ]
  },
  {
   "cell_type": "markdown",
   "metadata": {},
   "source": [
    "$If \\ \\widehat{d} > 1.96*\\hat{se_{pool}} \\ or \\ \\widehat{d} < -1.96*\\hat{se_{pool}}, \\ reject \\ H_{0} \\ (i.e., outside \\ of \\ CI)$ <br>\n",
    "$95\\% \\ CI: \\ (\\widehat{d} - ME, \\ \\widehat{d} + ME)$"
   ]
  },
  {
   "cell_type": "code",
   "execution_count": 24,
   "metadata": {},
   "outputs": [],
   "source": [
    "def effect_size_test(x_cont, x_exp, N_cont, N_exp, d_min):\n",
    "    \n",
    "    ## Control Proportion \n",
    "    cont_p_hat = x_cont/N_cont\n",
    "    print('Control Proportion:', round(cont_p_hat, 4))\n",
    "\n",
    "    # Experiment Proportion\n",
    "    exp_p_hat = x_exp/N_exp\n",
    "    print('Experiment Proportion:', round(exp_p_hat, 4))\n",
    "\n",
    "    # Observed Difference d_hat\n",
    "    d_hat = exp_p_hat - cont_p_hat\n",
    "    print('Observed Difference:', round(d_hat, 4))\n",
    "\n",
    "    print('Minimum Detectable Effect (d_min):', d_min)\n",
    "    print()\n",
    "    \n",
    "    # Pooled Estimated Proportion\n",
    "    p_hat_pooled = (x_cont + x_exp)/(N_cont + N_exp)\n",
    "    print('Pooled Estimated Proportion:', round(p_hat_pooled, 4))\n",
    "\n",
    "    # Pooled Standard Error\n",
    "    SE_pooled = np.sqrt((p_hat_pooled * (1 - p_hat_pooled))*((1/N_cont) + (1/N_exp)))\n",
    "    print('Pooled Standard Error:', round(SE_pooled, 4))\n",
    "\n",
    "    # Margin of Error for 95% Confidence Interval (z = 1.96)\n",
    "    ME = 1.96 * SE_pooled\n",
    "    print('Margin of Error:', round(ME, 4))\n",
    "\n",
    "    # 95% Confidence Interval\n",
    "    lower_CI = d_hat - ME\n",
    "    print('CI Lower Bound:', round(lower_CI, 4))\n",
    "    upper_CI = d_hat + ME\n",
    "    print('CI Upper Bound:', round(upper_CI, 4))\n",
    "    print()\n",
    "    print('95% CI: (', round(lower_CI, 4), ',', round(upper_CI, 4), ')')\n",
    "    print('The change is statistically significant if the CI does not include 0. \\nIn that case, it is practically significant if d_min =', d_min, 'is not in the CI as well.')"
   ]
  },
  {
   "cell_type": "code",
   "execution_count": 25,
   "metadata": {},
   "outputs": [
    {
     "name": "stdout",
     "output_type": "stream",
     "text": [
      "Control Proportion: 0.2189\n",
      "Experiment Proportion: 0.1983\n",
      "Observed Difference: -0.0206\n",
      "Minimum Detectable Effect (d_min): 0.01\n",
      "\n",
      "Pooled Estimated Proportion: 0.2086\n",
      "Pooled Standard Error: 0.0044\n",
      "Margin of Error: 0.0086\n",
      "CI Lower Bound: -0.0291\n",
      "CI Upper Bound: -0.012\n",
      "\n",
      "95% CI: ( -0.0291 , -0.012 )\n",
      "The change is statistically significant if the CI does not include 0. \n",
      "In that case, it is practically significant if d_min = 0.01 is not in the CI as well.\n"
     ]
    }
   ],
   "source": [
    "# Gross Conversion (enrollments/clicks)\n",
    "effect_size_test(enrollments_cont, enrollments_exp, clicks_cont, clicks_exp, 0.01)"
   ]
  },
  {
   "cell_type": "code",
   "execution_count": 26,
   "metadata": {},
   "outputs": [
    {
     "name": "stdout",
     "output_type": "stream",
     "text": [
      "Control Proportion: 0.1176\n",
      "Experiment Proportion: 0.1127\n",
      "Observed Difference: -0.0049\n",
      "Minimum Detectable Effect (d_min): 0.0075\n",
      "\n",
      "Pooled Estimated Proportion: 0.1151\n",
      "Pooled Standard Error: 0.0034\n",
      "Margin of Error: 0.0067\n",
      "CI Lower Bound: -0.0116\n",
      "CI Upper Bound: 0.0019\n",
      "\n",
      "95% CI: ( -0.0116 , 0.0019 )\n",
      "The change is statistically significant if the CI does not include 0. \n",
      "In that case, it is practically significant if d_min = 0.0075 is not in the CI as well.\n"
     ]
    }
   ],
   "source": [
    "# Net Conversion (payments/clicks)\n",
    "effect_size_test(payments_cont, payments_exp, clicks_cont, clicks_exp, 0.0075)"
   ]
  },
  {
   "cell_type": "markdown",
   "metadata": {},
   "source": [
    "#### Significance definitions\n",
    "A metric is statistically significant if the confidence interval does not include 0 (that is, you can be confident there was a change), and it is practically significant if the confidence interval does not include the practical significance boundary (that is, you can be confident there is a change that matters to the business.)\n",
    "\n",
    "\n",
    "<table style=\"width:100%;\">\n",
    "<colgroup>\n",
    "<col width=\"10%\" />\n",
    "<col width=\"20%\" />\n",
    "<col width=\"20%\" />\n",
    "<col width=\"20%\" />\n",
    "<col width=\"20%\" />\n",
    "<col width=\"10%\" />\n",
    "</colgroup>\n",
    "<thead>\n",
    "<tr class=\"header\">\n",
    "<th align=\"center\">Metric</th>\n",
    "<th align=\"center\">dmin</th>\n",
    "<th align=\"center\">Observed Difference</th>\n",
    "<th align=\"center\">CI Lower Bound</th>\n",
    "<th align=\"center\">CI Upper Bound</th>\n",
    "<th align=\"center\">Result</th>\n",
    "</tr>\n",
    "</thead>\n",
    "<tbody>\n",
    "<tr class=\"odd\">\n",
    "<td align=\"center\">Gross Conversion</td>\n",
    "<td align=\"center\">0.01</td>\n",
    "<td align=\"center\">-0.0206</td>\n",
    "<td align=\"center\">-0.0291</td>\n",
    "<td align=\"center\">-0.0120</td>\n",
    "<td align=\"center\">Statistically and Practically Significant</td>\n",
    "</tr>\n",
    "<tr class=\"even\">\n",
    "<td align=\"center\">Net Conversion</td>\n",
    "<td align=\"center\">0.0075</td>\n",
    "<td align=\"center\">-0.0049</td>\n",
    "<td align=\"center\">-0.0116</td>\n",
    "<td align=\"center\">0.0019</td>\n",
    "<td align=\"center\">Neither Statistically nor Practically Significant</td>\n",
    "</tr>\n",
    "</tbody>\n",
    "</table>"
   ]
  },
  {
   "cell_type": "markdown",
   "metadata": {},
   "source": [
    "### Sign Tests\n",
    "\n",
    "Sign test is just an another method to validate the result obtained\n",
    "above. The sensitivity of sign test is lower than that of the above\n",
    "test."
   ]
  },
  {
   "cell_type": "code",
   "execution_count": 27,
   "metadata": {},
   "outputs": [
    {
     "data": {
      "text/html": [
       "<div>\n",
       "<style scoped>\n",
       "    .dataframe tbody tr th:only-of-type {\n",
       "        vertical-align: middle;\n",
       "    }\n",
       "\n",
       "    .dataframe tbody tr th {\n",
       "        vertical-align: top;\n",
       "    }\n",
       "\n",
       "    .dataframe thead th {\n",
       "        text-align: right;\n",
       "    }\n",
       "</style>\n",
       "<table border=\"1\" class=\"dataframe\">\n",
       "  <thead>\n",
       "    <tr style=\"text-align: right;\">\n",
       "      <th></th>\n",
       "      <th>Date</th>\n",
       "      <th>Pageviews_x</th>\n",
       "      <th>Clicks_x</th>\n",
       "      <th>Enrollments_x</th>\n",
       "      <th>Payments_x</th>\n",
       "      <th>Pageviews_y</th>\n",
       "      <th>Clicks_y</th>\n",
       "      <th>Enrollments_y</th>\n",
       "      <th>Payments_y</th>\n",
       "    </tr>\n",
       "  </thead>\n",
       "  <tbody>\n",
       "    <tr>\n",
       "      <th>0</th>\n",
       "      <td>Sat, Oct 11</td>\n",
       "      <td>7723</td>\n",
       "      <td>687</td>\n",
       "      <td>134.0</td>\n",
       "      <td>70.0</td>\n",
       "      <td>7716</td>\n",
       "      <td>686</td>\n",
       "      <td>105.0</td>\n",
       "      <td>34.0</td>\n",
       "    </tr>\n",
       "    <tr>\n",
       "      <th>1</th>\n",
       "      <td>Sun, Oct 12</td>\n",
       "      <td>9102</td>\n",
       "      <td>779</td>\n",
       "      <td>147.0</td>\n",
       "      <td>70.0</td>\n",
       "      <td>9288</td>\n",
       "      <td>785</td>\n",
       "      <td>116.0</td>\n",
       "      <td>91.0</td>\n",
       "    </tr>\n",
       "    <tr>\n",
       "      <th>2</th>\n",
       "      <td>Mon, Oct 13</td>\n",
       "      <td>10511</td>\n",
       "      <td>909</td>\n",
       "      <td>167.0</td>\n",
       "      <td>95.0</td>\n",
       "      <td>10480</td>\n",
       "      <td>884</td>\n",
       "      <td>145.0</td>\n",
       "      <td>79.0</td>\n",
       "    </tr>\n",
       "    <tr>\n",
       "      <th>3</th>\n",
       "      <td>Tue, Oct 14</td>\n",
       "      <td>9871</td>\n",
       "      <td>836</td>\n",
       "      <td>156.0</td>\n",
       "      <td>105.0</td>\n",
       "      <td>9867</td>\n",
       "      <td>827</td>\n",
       "      <td>138.0</td>\n",
       "      <td>92.0</td>\n",
       "    </tr>\n",
       "    <tr>\n",
       "      <th>4</th>\n",
       "      <td>Wed, Oct 15</td>\n",
       "      <td>10014</td>\n",
       "      <td>837</td>\n",
       "      <td>163.0</td>\n",
       "      <td>64.0</td>\n",
       "      <td>9793</td>\n",
       "      <td>832</td>\n",
       "      <td>140.0</td>\n",
       "      <td>94.0</td>\n",
       "    </tr>\n",
       "  </tbody>\n",
       "</table>\n",
       "</div>"
      ],
      "text/plain": [
       "          Date  Pageviews_x  Clicks_x  Enrollments_x  Payments_x  Pageviews_y  \\\n",
       "0  Sat, Oct 11         7723       687          134.0        70.0         7716   \n",
       "1  Sun, Oct 12         9102       779          147.0        70.0         9288   \n",
       "2  Mon, Oct 13        10511       909          167.0        95.0        10480   \n",
       "3  Tue, Oct 14         9871       836          156.0       105.0         9867   \n",
       "4  Wed, Oct 15        10014       837          163.0        64.0         9793   \n",
       "\n",
       "   Clicks_y  Enrollments_y  Payments_y  \n",
       "0       686          105.0        34.0  \n",
       "1       785          116.0        91.0  \n",
       "2       884          145.0        79.0  \n",
       "3       827          138.0        92.0  \n",
       "4       832          140.0        94.0  "
      ]
     },
     "execution_count": 27,
     "metadata": {},
     "output_type": "execute_result"
    }
   ],
   "source": [
    "df_SignTest = pd.merge(df_control_notnull, df_experiment_notnull, on='Date')\n",
    "df_SignTest.head()"
   ]
  },
  {
   "cell_type": "code",
   "execution_count": 28,
   "metadata": {},
   "outputs": [],
   "source": [
    "df_SignTest['GrossConversion_cont'] = df_SignTest.Enrollments_x/df_SignTest.Clicks_x\n",
    "df_SignTest['GrossConversion_exp'] = df_SignTest.Enrollments_y/df_SignTest.Clicks_y\n",
    "df_SignTest['NetConversion_cont'] = df_SignTest.Payments_x/df_SignTest.Clicks_x\n",
    "df_SignTest['NetConversion_exp'] = df_SignTest.Payments_y/df_SignTest.Clicks_y"
   ]
  },
  {
   "cell_type": "code",
   "execution_count": 29,
   "metadata": {},
   "outputs": [],
   "source": [
    "cols = ['Date', 'GrossConversion_cont', 'GrossConversion_exp', 'NetConversion_cont', 'NetConversion_exp']\n",
    "df_SignTest = df_SignTest[cols]"
   ]
  },
  {
   "cell_type": "code",
   "execution_count": 30,
   "metadata": {},
   "outputs": [
    {
     "data": {
      "text/html": [
       "<div>\n",
       "<style scoped>\n",
       "    .dataframe tbody tr th:only-of-type {\n",
       "        vertical-align: middle;\n",
       "    }\n",
       "\n",
       "    .dataframe tbody tr th {\n",
       "        vertical-align: top;\n",
       "    }\n",
       "\n",
       "    .dataframe thead th {\n",
       "        text-align: right;\n",
       "    }\n",
       "</style>\n",
       "<table border=\"1\" class=\"dataframe\">\n",
       "  <thead>\n",
       "    <tr style=\"text-align: right;\">\n",
       "      <th></th>\n",
       "      <th>Date</th>\n",
       "      <th>GrossConversion_cont</th>\n",
       "      <th>GrossConversion_exp</th>\n",
       "      <th>NetConversion_cont</th>\n",
       "      <th>NetConversion_exp</th>\n",
       "    </tr>\n",
       "  </thead>\n",
       "  <tbody>\n",
       "    <tr>\n",
       "      <th>0</th>\n",
       "      <td>Sat, Oct 11</td>\n",
       "      <td>0.195051</td>\n",
       "      <td>0.153061</td>\n",
       "      <td>0.101892</td>\n",
       "      <td>0.049563</td>\n",
       "    </tr>\n",
       "    <tr>\n",
       "      <th>1</th>\n",
       "      <td>Sun, Oct 12</td>\n",
       "      <td>0.188703</td>\n",
       "      <td>0.147771</td>\n",
       "      <td>0.089859</td>\n",
       "      <td>0.115924</td>\n",
       "    </tr>\n",
       "    <tr>\n",
       "      <th>2</th>\n",
       "      <td>Mon, Oct 13</td>\n",
       "      <td>0.183718</td>\n",
       "      <td>0.164027</td>\n",
       "      <td>0.104510</td>\n",
       "      <td>0.089367</td>\n",
       "    </tr>\n",
       "    <tr>\n",
       "      <th>3</th>\n",
       "      <td>Tue, Oct 14</td>\n",
       "      <td>0.186603</td>\n",
       "      <td>0.166868</td>\n",
       "      <td>0.125598</td>\n",
       "      <td>0.111245</td>\n",
       "    </tr>\n",
       "    <tr>\n",
       "      <th>4</th>\n",
       "      <td>Wed, Oct 15</td>\n",
       "      <td>0.194743</td>\n",
       "      <td>0.168269</td>\n",
       "      <td>0.076464</td>\n",
       "      <td>0.112981</td>\n",
       "    </tr>\n",
       "  </tbody>\n",
       "</table>\n",
       "</div>"
      ],
      "text/plain": [
       "          Date  GrossConversion_cont  GrossConversion_exp  NetConversion_cont  \\\n",
       "0  Sat, Oct 11              0.195051             0.153061            0.101892   \n",
       "1  Sun, Oct 12              0.188703             0.147771            0.089859   \n",
       "2  Mon, Oct 13              0.183718             0.164027            0.104510   \n",
       "3  Tue, Oct 14              0.186603             0.166868            0.125598   \n",
       "4  Wed, Oct 15              0.194743             0.168269            0.076464   \n",
       "\n",
       "   NetConversion_exp  \n",
       "0           0.049563  \n",
       "1           0.115924  \n",
       "2           0.089367  \n",
       "3           0.111245  \n",
       "4           0.112981  "
      ]
     },
     "execution_count": 30,
     "metadata": {},
     "output_type": "execute_result"
    }
   ],
   "source": [
    "df_SignTest.head()"
   ]
  },
  {
   "cell_type": "code",
   "execution_count": 31,
   "metadata": {},
   "outputs": [],
   "source": [
    "df_SignTest['GC_Sign'] = df_SignTest.GrossConversion_cont - df_SignTest.GrossConversion_exp\n",
    "df_SignTest['NC_Sign'] = df_SignTest.NetConversion_cont - df_SignTest.NetConversion_exp"
   ]
  },
  {
   "cell_type": "code",
   "execution_count": 32,
   "metadata": {},
   "outputs": [
    {
     "data": {
      "text/html": [
       "<div>\n",
       "<style scoped>\n",
       "    .dataframe tbody tr th:only-of-type {\n",
       "        vertical-align: middle;\n",
       "    }\n",
       "\n",
       "    .dataframe tbody tr th {\n",
       "        vertical-align: top;\n",
       "    }\n",
       "\n",
       "    .dataframe thead th {\n",
       "        text-align: right;\n",
       "    }\n",
       "</style>\n",
       "<table border=\"1\" class=\"dataframe\">\n",
       "  <thead>\n",
       "    <tr style=\"text-align: right;\">\n",
       "      <th></th>\n",
       "      <th>Date</th>\n",
       "      <th>GrossConversion_cont</th>\n",
       "      <th>GrossConversion_exp</th>\n",
       "      <th>NetConversion_cont</th>\n",
       "      <th>NetConversion_exp</th>\n",
       "      <th>GC_Sign</th>\n",
       "      <th>NC_Sign</th>\n",
       "    </tr>\n",
       "  </thead>\n",
       "  <tbody>\n",
       "    <tr>\n",
       "      <th>0</th>\n",
       "      <td>Sat, Oct 11</td>\n",
       "      <td>0.195051</td>\n",
       "      <td>0.153061</td>\n",
       "      <td>0.101892</td>\n",
       "      <td>0.049563</td>\n",
       "      <td>0.041990</td>\n",
       "      <td>0.052330</td>\n",
       "    </tr>\n",
       "    <tr>\n",
       "      <th>1</th>\n",
       "      <td>Sun, Oct 12</td>\n",
       "      <td>0.188703</td>\n",
       "      <td>0.147771</td>\n",
       "      <td>0.089859</td>\n",
       "      <td>0.115924</td>\n",
       "      <td>0.040933</td>\n",
       "      <td>-0.026065</td>\n",
       "    </tr>\n",
       "    <tr>\n",
       "      <th>2</th>\n",
       "      <td>Mon, Oct 13</td>\n",
       "      <td>0.183718</td>\n",
       "      <td>0.164027</td>\n",
       "      <td>0.104510</td>\n",
       "      <td>0.089367</td>\n",
       "      <td>0.019691</td>\n",
       "      <td>0.015144</td>\n",
       "    </tr>\n",
       "    <tr>\n",
       "      <th>3</th>\n",
       "      <td>Tue, Oct 14</td>\n",
       "      <td>0.186603</td>\n",
       "      <td>0.166868</td>\n",
       "      <td>0.125598</td>\n",
       "      <td>0.111245</td>\n",
       "      <td>0.019735</td>\n",
       "      <td>0.014353</td>\n",
       "    </tr>\n",
       "    <tr>\n",
       "      <th>4</th>\n",
       "      <td>Wed, Oct 15</td>\n",
       "      <td>0.194743</td>\n",
       "      <td>0.168269</td>\n",
       "      <td>0.076464</td>\n",
       "      <td>0.112981</td>\n",
       "      <td>0.026474</td>\n",
       "      <td>-0.036517</td>\n",
       "    </tr>\n",
       "    <tr>\n",
       "      <th>5</th>\n",
       "      <td>Thu, Oct 16</td>\n",
       "      <td>0.167679</td>\n",
       "      <td>0.163706</td>\n",
       "      <td>0.099635</td>\n",
       "      <td>0.077411</td>\n",
       "      <td>0.003974</td>\n",
       "      <td>0.022224</td>\n",
       "    </tr>\n",
       "    <tr>\n",
       "      <th>6</th>\n",
       "      <td>Fri, Oct 17</td>\n",
       "      <td>0.195187</td>\n",
       "      <td>0.162821</td>\n",
       "      <td>0.101604</td>\n",
       "      <td>0.056410</td>\n",
       "      <td>0.032367</td>\n",
       "      <td>0.045194</td>\n",
       "    </tr>\n",
       "    <tr>\n",
       "      <th>7</th>\n",
       "      <td>Sat, Oct 18</td>\n",
       "      <td>0.174051</td>\n",
       "      <td>0.144172</td>\n",
       "      <td>0.110759</td>\n",
       "      <td>0.095092</td>\n",
       "      <td>0.029879</td>\n",
       "      <td>0.015667</td>\n",
       "    </tr>\n",
       "    <tr>\n",
       "      <th>8</th>\n",
       "      <td>Sun, Oct 19</td>\n",
       "      <td>0.189580</td>\n",
       "      <td>0.172166</td>\n",
       "      <td>0.086831</td>\n",
       "      <td>0.110473</td>\n",
       "      <td>0.017414</td>\n",
       "      <td>-0.023643</td>\n",
       "    </tr>\n",
       "    <tr>\n",
       "      <th>9</th>\n",
       "      <td>Mon, Oct 20</td>\n",
       "      <td>0.191638</td>\n",
       "      <td>0.177907</td>\n",
       "      <td>0.112660</td>\n",
       "      <td>0.113953</td>\n",
       "      <td>0.013731</td>\n",
       "      <td>-0.001294</td>\n",
       "    </tr>\n",
       "    <tr>\n",
       "      <th>10</th>\n",
       "      <td>Tue, Oct 21</td>\n",
       "      <td>0.226067</td>\n",
       "      <td>0.165509</td>\n",
       "      <td>0.121107</td>\n",
       "      <td>0.082176</td>\n",
       "      <td>0.060558</td>\n",
       "      <td>0.038931</td>\n",
       "    </tr>\n",
       "    <tr>\n",
       "      <th>11</th>\n",
       "      <td>Wed, Oct 22</td>\n",
       "      <td>0.193317</td>\n",
       "      <td>0.159800</td>\n",
       "      <td>0.109785</td>\n",
       "      <td>0.087391</td>\n",
       "      <td>0.033517</td>\n",
       "      <td>0.022394</td>\n",
       "    </tr>\n",
       "    <tr>\n",
       "      <th>12</th>\n",
       "      <td>Thu, Oct 23</td>\n",
       "      <td>0.190977</td>\n",
       "      <td>0.190031</td>\n",
       "      <td>0.084211</td>\n",
       "      <td>0.105919</td>\n",
       "      <td>0.000946</td>\n",
       "      <td>-0.021708</td>\n",
       "    </tr>\n",
       "    <tr>\n",
       "      <th>13</th>\n",
       "      <td>Fri, Oct 24</td>\n",
       "      <td>0.326895</td>\n",
       "      <td>0.278336</td>\n",
       "      <td>0.181278</td>\n",
       "      <td>0.134864</td>\n",
       "      <td>0.048559</td>\n",
       "      <td>0.046414</td>\n",
       "    </tr>\n",
       "    <tr>\n",
       "      <th>14</th>\n",
       "      <td>Sat, Oct 25</td>\n",
       "      <td>0.254703</td>\n",
       "      <td>0.189836</td>\n",
       "      <td>0.185239</td>\n",
       "      <td>0.121076</td>\n",
       "      <td>0.064868</td>\n",
       "      <td>0.064163</td>\n",
       "    </tr>\n",
       "    <tr>\n",
       "      <th>15</th>\n",
       "      <td>Sun, Oct 26</td>\n",
       "      <td>0.227401</td>\n",
       "      <td>0.220779</td>\n",
       "      <td>0.146893</td>\n",
       "      <td>0.145743</td>\n",
       "      <td>0.006622</td>\n",
       "      <td>0.001150</td>\n",
       "    </tr>\n",
       "    <tr>\n",
       "      <th>16</th>\n",
       "      <td>Mon, Oct 27</td>\n",
       "      <td>0.306983</td>\n",
       "      <td>0.276265</td>\n",
       "      <td>0.163373</td>\n",
       "      <td>0.154345</td>\n",
       "      <td>0.030718</td>\n",
       "      <td>0.009028</td>\n",
       "    </tr>\n",
       "    <tr>\n",
       "      <th>17</th>\n",
       "      <td>Tue, Oct 28</td>\n",
       "      <td>0.209239</td>\n",
       "      <td>0.220109</td>\n",
       "      <td>0.123641</td>\n",
       "      <td>0.163043</td>\n",
       "      <td>-0.010870</td>\n",
       "      <td>-0.039402</td>\n",
       "    </tr>\n",
       "    <tr>\n",
       "      <th>18</th>\n",
       "      <td>Wed, Oct 29</td>\n",
       "      <td>0.265223</td>\n",
       "      <td>0.276479</td>\n",
       "      <td>0.116373</td>\n",
       "      <td>0.132050</td>\n",
       "      <td>-0.011255</td>\n",
       "      <td>-0.015676</td>\n",
       "    </tr>\n",
       "    <tr>\n",
       "      <th>19</th>\n",
       "      <td>Thu, Oct 30</td>\n",
       "      <td>0.227520</td>\n",
       "      <td>0.284341</td>\n",
       "      <td>0.102180</td>\n",
       "      <td>0.092033</td>\n",
       "      <td>-0.056820</td>\n",
       "      <td>0.010147</td>\n",
       "    </tr>\n",
       "    <tr>\n",
       "      <th>20</th>\n",
       "      <td>Fri, Oct 31</td>\n",
       "      <td>0.246459</td>\n",
       "      <td>0.252078</td>\n",
       "      <td>0.143059</td>\n",
       "      <td>0.170360</td>\n",
       "      <td>-0.005619</td>\n",
       "      <td>-0.027301</td>\n",
       "    </tr>\n",
       "    <tr>\n",
       "      <th>21</th>\n",
       "      <td>Sat, Nov 1</td>\n",
       "      <td>0.229075</td>\n",
       "      <td>0.204317</td>\n",
       "      <td>0.136564</td>\n",
       "      <td>0.143885</td>\n",
       "      <td>0.024758</td>\n",
       "      <td>-0.007321</td>\n",
       "    </tr>\n",
       "    <tr>\n",
       "      <th>22</th>\n",
       "      <td>Sun, Nov 2</td>\n",
       "      <td>0.297258</td>\n",
       "      <td>0.251381</td>\n",
       "      <td>0.096681</td>\n",
       "      <td>0.142265</td>\n",
       "      <td>0.045877</td>\n",
       "      <td>-0.045584</td>\n",
       "    </tr>\n",
       "  </tbody>\n",
       "</table>\n",
       "</div>"
      ],
      "text/plain": [
       "           Date  GrossConversion_cont  GrossConversion_exp  \\\n",
       "0   Sat, Oct 11              0.195051             0.153061   \n",
       "1   Sun, Oct 12              0.188703             0.147771   \n",
       "2   Mon, Oct 13              0.183718             0.164027   \n",
       "3   Tue, Oct 14              0.186603             0.166868   \n",
       "4   Wed, Oct 15              0.194743             0.168269   \n",
       "5   Thu, Oct 16              0.167679             0.163706   \n",
       "6   Fri, Oct 17              0.195187             0.162821   \n",
       "7   Sat, Oct 18              0.174051             0.144172   \n",
       "8   Sun, Oct 19              0.189580             0.172166   \n",
       "9   Mon, Oct 20              0.191638             0.177907   \n",
       "10  Tue, Oct 21              0.226067             0.165509   \n",
       "11  Wed, Oct 22              0.193317             0.159800   \n",
       "12  Thu, Oct 23              0.190977             0.190031   \n",
       "13  Fri, Oct 24              0.326895             0.278336   \n",
       "14  Sat, Oct 25              0.254703             0.189836   \n",
       "15  Sun, Oct 26              0.227401             0.220779   \n",
       "16  Mon, Oct 27              0.306983             0.276265   \n",
       "17  Tue, Oct 28              0.209239             0.220109   \n",
       "18  Wed, Oct 29              0.265223             0.276479   \n",
       "19  Thu, Oct 30              0.227520             0.284341   \n",
       "20  Fri, Oct 31              0.246459             0.252078   \n",
       "21   Sat, Nov 1              0.229075             0.204317   \n",
       "22   Sun, Nov 2              0.297258             0.251381   \n",
       "\n",
       "    NetConversion_cont  NetConversion_exp   GC_Sign   NC_Sign  \n",
       "0             0.101892           0.049563  0.041990  0.052330  \n",
       "1             0.089859           0.115924  0.040933 -0.026065  \n",
       "2             0.104510           0.089367  0.019691  0.015144  \n",
       "3             0.125598           0.111245  0.019735  0.014353  \n",
       "4             0.076464           0.112981  0.026474 -0.036517  \n",
       "5             0.099635           0.077411  0.003974  0.022224  \n",
       "6             0.101604           0.056410  0.032367  0.045194  \n",
       "7             0.110759           0.095092  0.029879  0.015667  \n",
       "8             0.086831           0.110473  0.017414 -0.023643  \n",
       "9             0.112660           0.113953  0.013731 -0.001294  \n",
       "10            0.121107           0.082176  0.060558  0.038931  \n",
       "11            0.109785           0.087391  0.033517  0.022394  \n",
       "12            0.084211           0.105919  0.000946 -0.021708  \n",
       "13            0.181278           0.134864  0.048559  0.046414  \n",
       "14            0.185239           0.121076  0.064868  0.064163  \n",
       "15            0.146893           0.145743  0.006622  0.001150  \n",
       "16            0.163373           0.154345  0.030718  0.009028  \n",
       "17            0.123641           0.163043 -0.010870 -0.039402  \n",
       "18            0.116373           0.132050 -0.011255 -0.015676  \n",
       "19            0.102180           0.092033 -0.056820  0.010147  \n",
       "20            0.143059           0.170360 -0.005619 -0.027301  \n",
       "21            0.136564           0.143885  0.024758 -0.007321  \n",
       "22            0.096681           0.142265  0.045877 -0.045584  "
      ]
     },
     "execution_count": 32,
     "metadata": {},
     "output_type": "execute_result"
    }
   ],
   "source": [
    "df_SignTest"
   ]
  },
  {
   "cell_type": "code",
   "execution_count": 33,
   "metadata": {},
   "outputs": [],
   "source": [
    "# Number of trials\n",
    "n = len(df_SignTest)"
   ]
  },
  {
   "cell_type": "code",
   "execution_count": 34,
   "metadata": {},
   "outputs": [
    {
     "data": {
      "text/plain": [
       "4"
      ]
     },
     "execution_count": 34,
     "metadata": {},
     "output_type": "execute_result"
    }
   ],
   "source": [
    "# Number of \"successes\"\n",
    "GC_x = n - len(df_SignTest[df_SignTest.GC_Sign > 0])\n",
    "GC_x"
   ]
  },
  {
   "cell_type": "code",
   "execution_count": 35,
   "metadata": {},
   "outputs": [
    {
     "data": {
      "text/plain": [
       "10"
      ]
     },
     "execution_count": 35,
     "metadata": {},
     "output_type": "execute_result"
    }
   ],
   "source": [
    "# Number of \"successes\"\n",
    "NC_x = n - len(df_SignTest[df_SignTest.NC_Sign > 0])\n",
    "NC_x"
   ]
  },
  {
   "cell_type": "markdown",
   "metadata": {},
   "source": [
    "[online sign test calculator](https://www.graphpad.com/quickcalcs/binomial1/)"
   ]
  },
  {
   "cell_type": "code",
   "execution_count": 36,
   "metadata": {},
   "outputs": [],
   "source": [
    "# First a function for calculating probability of x=number of successes\n",
    "def get_prob(x, n):\n",
    "    p = round(math.factorial(n)/(math.factorial(x)*math.factorial(n - x))*0.5**x*0.5**(n - x),4)\n",
    "    return p\n",
    "\n",
    "# next a function to compute the pvalue from probabilities of maximum x\n",
    "def get_2side_pvalue(x, n):\n",
    "    p = 0\n",
    "    for i in range(0, x + 1):\n",
    "        p = p + get_prob(i, n)\n",
    "    return 2*p"
   ]
  },
  {
   "cell_type": "code",
   "execution_count": 37,
   "metadata": {},
   "outputs": [
    {
     "name": "stdout",
     "output_type": "stream",
     "text": [
      "GC Change is significant if 0.0026 is smaller than 0.05\n",
      "NC Change is significant if 0.6774 is smaller than 0.05\n"
     ]
    }
   ],
   "source": [
    "print('GC Change is significant if', round(get_2side_pvalue(GC_x, n), 4), 'is smaller than 0.05')\n",
    "print('NC Change is significant if', round(get_2side_pvalue(NC_x, n), 4), 'is smaller than 0.05')"
   ]
  },
  {
   "cell_type": "markdown",
   "metadata": {},
   "source": [
    "<table>\n",
    "<thead>\n",
    "<tr class=\"header\">\n",
    "<th align=\"center\">Metric</th>\n",
    "<th align=\"center\">p-value for sign test</th>\n",
    "<th align=\"center\">Statistically Significant @ alpha .05?</th>\n",
    "</tr>\n",
    "</thead>\n",
    "<tbody>\n",
    "<tr class=\"odd\">\n",
    "<td align=\"center\">Gross Conversion</td>\n",
    "<td align=\"center\">0.0026</td>\n",
    "<td align=\"center\">Yes</td>\n",
    "</tr>\n",
    "<tr class=\"even\">\n",
    "<td align=\"center\">Net Conversion</td>\n",
    "<td align=\"center\">0.6776</td>\n",
    "<td align=\"center\">No</td>\n",
    "</tr>\n",
    "</tbody>\n",
    "</table>"
   ]
  },
  {
   "cell_type": "markdown",
   "metadata": {},
   "source": [
    "Summary\n",
    "-------\n",
    "\n",
    "An experiment was conducted in which potential Udacity students were\n",
    "diverted by cookie into two groups, experiment and control. The\n",
    "experiment group was asked to input the amount of time they are willing\n",
    "to devote to study, after clicking a \"start free trial button\", whereas\n",
    "the control group was not. Three invariant metrics (Number of Cookies,\n",
    "Number of clicks on \"start free trial\", and Click-Through-Probability)\n",
    "were chosen for purposes of validation and sanity checking while Gross\n",
    "Conversion (enrollment/cookie) and Net Conversion (payments/cookie)\n",
    "served as evaluation metrics. The null hypothesis is that there is no\n",
    "difference in the evaluation metrics between the groups, futhermore, a\n",
    "practical signifcance threshold was set for each metric. The requirement\n",
    "for launching the experiment is that the null hypothesis must be\n",
    "rejected for ALL evaluation metrics and that the difference between\n",
    "branches must meet or exceed the practical signficance threshold.\n",
    "Because our acceptance criteria requires statiscally signifcant\n",
    "differences for ALL evaluation metrics, the use of the Bonferonni\n",
    "correction is not appropriate. The Bonferonni correction is a method for\n",
    "controlling for type I errors (false positives) when using multiple\n",
    "metrics in which relevance of ANY of the metrics matches the hypothesis.\n",
    "In this case the risk of type I errors increases as the number of\n",
    "metrics increases (signifcance by random chance). In our case in which\n",
    "ALL metrics must be relevant to launch, the risk of type II errors\n",
    "(false negatives) increases as the number of metrics increases, so it\n",
    "stands to reason that controlling for false positives is not consistent\n",
    "with our acceptance criteria.\n",
    "\n",
    "Analysis revealed the expected equal distribution of cookies into the\n",
    "control and experimental groups, for the invariant metrics, at the 95%\n",
    "CI. A difference in gross conversion was found to be statistically\n",
    "signficant at the 95% CI, and the null hypothesis was rejected. Gross\n",
    "conversion also met the practical signficance threshold. Net Conversion\n",
    "was found to be neither statistically nor practically signficant at the\n",
    "95% CI."
   ]
  },
  {
   "cell_type": "markdown",
   "metadata": {},
   "source": [
    "Recommendation\n",
    "--------------\n",
    "\n",
    "This experiment was designed to determine whether filtering students as\n",
    "a function of study time commitment would improve the overall student\n",
    "experience and the coaches' capacity to support students who are likely\n",
    "to complete the course, without significantly reducing the number of\n",
    "students who continue past the free trial. A statistically and\n",
    "practically signficant decrease in Gross Conversion was observed but\n",
    "with no significant differences in Net Conversion. This translates to a\n",
    "decrease in enrollment not coupled to an increase in students staying\n",
    "for the requisite 14 days to trigger payment. Considering this, my\n",
    "recomendation is not to launch, but rather to pursue other experiments."
   ]
  },
  {
   "cell_type": "markdown",
   "metadata": {},
   "source": [
    "Follow-up Experiment\n",
    "--------------------\n",
    "\n",
    "The construct of student frustration could be assigned an operational\n",
    "definition of \"cancel early,\" where a convenient definition and measure\n",
    "of early cancellation is prior to the end of the 14 day trial period in\n",
    "which payment is triggered. An early cancellation is not necessarily\n",
    "indicative of frustration but could be from other causes, such as a\n",
    "course not being aligned to the students needs or expectations in terms\n",
    "of content. For preventng early cancellation there are two primary\n",
    "logical timepoint opportunities for intervention, (1) pre-enrollment,\n",
    "and (2) post-enrollment but pre-payment.\n",
    "\n",
    "The first opportunity for intervention was explored above wherein a poll\n",
    "regarding time commitment was used as to filter out students likely to\n",
    "become frustrated. This filter focused only on time commitment to the\n",
    "class and did not address other reasons why a student might become\n",
    "frustrated and cancel early. Even if the student was sincere in their\n",
    "response and dilligent in their study, they may become frustrated if\n",
    "they don't have the suggested pre-requisite skills and experience. That\n",
    "is, their committed time may not be enough if they don't come in with\n",
    "the pre-requisite skill set. Adding a checklist of pre-requisite skills\n",
    "to the popup regarding time commitment may be informative. This\n",
    "experiment would leverage the infrastrucure and data pipeline of the\n",
    "original experiment and be set up in the same way as the original,\n",
    "including the unit of diversion. The only difference would be the\n",
    "information in the form. If the student's answer meets the time and\n",
    "pre-requisite requirements (radiobox checklist) they are directed to\n",
    "enroll in the free trial, otherwise they are encouraged to access the\n",
    "free version. This experiment would be low cost in terms of resources\n",
    "and may increase the selectivity of the pre-enrollment filter. A\n",
    "succesful experiment would be one in which there is a signficant\n",
    "decrease in Gross Conversion coupled to a significant increase in Net\n",
    "Conversion.\n",
    "\n",
    "A variety of approaches could be used to intervene post-enrollment but\n",
    "pre-payment and could be deployed concurrently with pre-enrollment\n",
    "intervention. An ideal approach would be one which minimizes the use of\n",
    "additional coaching resources to best meet the original intent of the\n",
    "intervention. An effective approach may be to employ peer\n",
    "coaching/guidance by means of team formation. If a student has a team of\n",
    "other students which they could consult, discuss coursework and\n",
    "frustrations with, and be accountable to, they may be more likely to\n",
    "stick out the growing pains and stay for the long term. The experiment\n",
    "would function in the following manner.\n",
    "\n",
    "**Setup:** Upon enrollment students will either be randomly assigned to\n",
    "a control group in which they are not funnelled into a team, or an\n",
    "experiment group in which they are.\n",
    "\n",
    "**Null Hypothesis:** Participation in a team will not increase the\n",
    "number of students enrolled beyond the 14 day free trial period by a\n",
    "significant amount.\n",
    "\n",
    "**Unit of Diversion:** The unit of diversion will be user-id as the\n",
    "change takes place after a student creates an account and enrolls in a\n",
    "course.\n",
    "\n",
    "**Invariant Metrics:** The invariant metric will be user-id, since an\n",
    "equal distribution between experiment and control would be expected as a\n",
    "property of the setup.\n",
    "\n",
    "**Evaluation Metrics:** The evaluation metric willl be Retention. A\n",
    "statistically and practically significant increase in Retention would\n",
    "indicate that the change is succesful.\n",
    "\n",
    "If a statistically and practically signifcant positive change in\n",
    "Retention is observed, assuming an acceptable impact on overall Udacity\n",
    "resources (setting up and maintaining teams will require resource use),\n",
    "the experiment will be launched.\n",
    "\n"
   ]
  }
 ],
 "metadata": {
  "kernelspec": {
   "display_name": "Python 3",
   "language": "python",
   "name": "python3"
  },
  "language_info": {
   "codemirror_mode": {
    "name": "ipython",
    "version": 3
   },
   "file_extension": ".py",
   "mimetype": "text/x-python",
   "name": "python",
   "nbconvert_exporter": "python",
   "pygments_lexer": "ipython3",
   "version": "3.7.4"
  }
 },
 "nbformat": 4,
 "nbformat_minor": 1
}
